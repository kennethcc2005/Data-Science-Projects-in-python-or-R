{
 "metadata": {
  "name": "",
  "signature": "sha256:a89a28c048786d63b5b0b30989a1e8f8af206e3dac0824b829b555453cbf99c4"
 },
 "nbformat": 3,
 "nbformat_minor": 0,
 "worksheets": [
  {
   "cells": [
    {
     "cell_type": "markdown",
     "metadata": {},
     "source": [
      "As demonstrated in the Data Analyst Nanodegree Webcast on Multicollinearity in Linear Regression by Charlie and Stephen on Tuesday 16th June 2015.\n",
      "\n",
      "Run the code locally (or on your own dataset) to investigate multicollinearity yourself.\n",
      "It's a good idea to keep track of the features you include, R^2 value, and the multicollinearity issues that you observe."
     ]
    },
    {
     "cell_type": "code",
     "collapsed": false,
     "input": [
      "#Import the useful data science packages!\n",
      "import numpy as np\n",
      "import pandas as pd\n",
      "import statsmodels.api as sm"
     ],
     "language": "python",
     "metadata": {},
     "outputs": [],
     "prompt_number": 1
    },
    {
     "cell_type": "code",
     "collapsed": false,
     "input": [
      "#Load the data\n",
      "prosper = pd.read_csv('/Users/charlie/Downloads/prosperLoanData.csv')\n",
      "# you can download the dataset from https://docs.google.com/document/d/1w7KhqotVi5eoKE3I_AZHbsxdr-NmcWsLTIiZrpxWx4w/pub and then\n",
      "# run all this locally."
     ],
     "language": "python",
     "metadata": {},
     "outputs": [],
     "prompt_number": 2
    },
    {
     "cell_type": "code",
     "collapsed": false,
     "input": [
      "prosper.columns"
     ],
     "language": "python",
     "metadata": {},
     "outputs": []
    },
    {
     "cell_type": "code",
     "collapsed": false,
     "input": [
      "# Normalisation function used to ensure that each numerical variable has mean = 0 \n",
      "# and standard deviation = 1. Does the same as the function in Lesson 3 of Intro to DS.\n",
      "def normalise(data):\n",
      "    mean = data.mean()\n",
      "    stdev = data.std()\n",
      "    return (data - mean)/stdev"
     ],
     "language": "python",
     "metadata": {},
     "outputs": [],
     "prompt_number": 53
    },
    {
     "cell_type": "code",
     "collapsed": false,
     "input": [
      "# Choose some of the many columns from the dataset. We're going to attempt to predict the \n",
      "# 'LoanOriginalAmount' from some of the other data.\n",
      "prosper = prosper[['CreditScoreRangeLower','StatedMonthlyIncome', \\\n",
      "                   'IsBorrowerHomeowner', 'CreditScoreRangeUpper',\\\n",
      "                   'EmploymentStatus','Term','BorrowerRate','LenderYield',\\\n",
      "                   'LoanOriginalAmount']]"
     ],
     "language": "python",
     "metadata": {},
     "outputs": [],
     "prompt_number": 54
    },
    {
     "cell_type": "code",
     "collapsed": false,
     "input": [
      "# Select just the numerical variables, we'll normalise these and we'll be creating dummy variables\n",
      "# from the categorical variables.\n",
      "numerical_variables = ['CreditScoreRangeLower','StatedMonthlyIncome',\\\n",
      "                       'Term','CreditScoreRangeUpper','BorrowerRate',\\\n",
      "                       'LenderYield','LoanOriginalAmount']"
     ],
     "language": "python",
     "metadata": {},
     "outputs": [],
     "prompt_number": 65
    },
    {
     "cell_type": "code",
     "collapsed": false,
     "input": [
      "#just remove the missing data and any duplication for simplicity!\n",
      "prosper.dropna(inplace = True)\n",
      "prosper.drop_duplicates(inplace = True)\n",
      "\n",
      "#choose the numerical variables from prosper, remove the target to create features\n",
      "features = prosper[numerical_variables].drop(['LoanOriginalAmount'],axis = 1)\n",
      "#normalising numerical features improves the performance of fitting algorithms \n",
      "# (don't normalise the dummy variables though, that's generally a bad idea!)\n",
      "features = normalise(features)\n",
      "\n",
      "#create dataframes of homeowner and employment dummies \n",
      "home_dum = pd.get_dummies(prosper.IsBorrowerHomeowner,prefix=\"homeowner\")\n",
      "job_dum = pd.get_dummies(prosper.EmploymentStatus,prefix = \"job\")"
     ],
     "language": "python",
     "metadata": {},
     "outputs": [],
     "prompt_number": 77
    },
    {
     "cell_type": "markdown",
     "metadata": {},
     "source": [
      "Interact with the following cell to adjust your model. Uncomment/comment rows to use them or use\n",
      "```\n",
      "features.drop([ColumnName],axis=1,inplace=True)\n",
      "```\n",
      "to drop a column."
     ]
    },
    {
     "cell_type": "code",
     "collapsed": false,
     "input": [
      "# uncomment to add a constant column\n",
      "#features = sm.add_constant(features)\n",
      "\n",
      "# uncomment these to add the dummy variables to the features\n",
      "#features = features.join(job_dum)\n",
      "#features = features.join(home_dum)\n",
      "\n",
      "# uncomment these to drop a single dummy variable from each full set \n",
      "# (but only if you've previously added them!)\n",
      "#features.drop(['job_Employed'],axis=1,inplace=True)\n",
      "#features.drop(['homeowner_True'],axis = 1,inplace=True)\n",
      "\n",
      "# set the target values to fit the linear regression model\n",
      "values = prosper.LoanOriginalAmount"
     ],
     "language": "python",
     "metadata": {},
     "outputs": []
    },
    {
     "cell_type": "code",
     "collapsed": false,
     "input": [
      "# Watch out for strongly correlated features!\n",
      "features.corr()"
     ],
     "language": "python",
     "metadata": {},
     "outputs": []
    },
    {
     "cell_type": "code",
     "collapsed": false,
     "input": [
      "# create, fit and summarise the model\n",
      "# check out the coefficients and the condition number to look for multicollinearity\n",
      "\n",
      "# A good resource for understanding all of this summary output can be found in the excellent\n",
      "# online statistics textbook here: http://work.thaslwanter.at/Stats/html/statsModels.html#linear-regression-analysis-with-python\n",
      "sm.OLS(values,features).fit().summary()"
     ],
     "language": "python",
     "metadata": {},
     "outputs": [
      {
       "html": [
        "<table class=\"simpletable\">\n",
        "<caption>OLS Regression Results</caption>\n",
        "<tr>\n",
        "  <th>Dep. Variable:</th>    <td>LoanOriginalAmount</td> <th>  R-squared:         </th>  <td>   0.298</td>  \n",
        "</tr>\n",
        "<tr>\n",
        "  <th>Model:</th>                    <td>OLS</td>        <th>  Adj. R-squared:    </th>  <td>   0.298</td>  \n",
        "</tr>\n",
        "<tr>\n",
        "  <th>Method:</th>              <td>Least Squares</td>   <th>  F-statistic:       </th>  <td>   3824.</td>  \n",
        "</tr>\n",
        "<tr>\n",
        "  <th>Date:</th>              <td>Tue, 16 Jun 2015</td>  <th>  Prob (F-statistic):</th>   <td>  0.00</td>   \n",
        "</tr>\n",
        "<tr>\n",
        "  <th>Time:</th>                  <td>18:03:43</td>      <th>  Log-Likelihood:    </th> <td>-1.0772e+06</td>\n",
        "</tr>\n",
        "<tr>\n",
        "  <th>No. Observations:</th>       <td>107893</td>       <th>  AIC:               </th>  <td>2.154e+06</td> \n",
        "</tr>\n",
        "<tr>\n",
        "  <th>Df Residuals:</th>           <td>107880</td>       <th>  BIC:               </th>  <td>2.155e+06</td> \n",
        "</tr>\n",
        "<tr>\n",
        "  <th>Df Model:</th>               <td>    12</td>       <th>                     </th>      <td> </td>     \n",
        "</tr>\n",
        "<tr>\n",
        "  <th>Covariance Type:</th>       <td>nonrobust</td>     <th>                     </th>      <td> </td>     \n",
        "</tr>\n",
        "</table>\n",
        "<table class=\"simpletable\">\n",
        "<tr>\n",
        "            <td></td>               <th>coef</th>     <th>std err</th>      <th>t</th>      <th>P>|t|</th> <th>[95.0% Conf. Int.]</th> \n",
        "</tr>\n",
        "<tr>\n",
        "  <th>const</th>                 <td> 9746.5002</td> <td>   27.336</td> <td>  356.541</td> <td> 0.000</td> <td> 9692.922  9800.079</td>\n",
        "</tr>\n",
        "<tr>\n",
        "  <th>CreditScoreRangeLower</th> <td>  644.4733</td> <td>   20.641</td> <td>   31.224</td> <td> 0.000</td> <td>  604.018   684.928</td>\n",
        "</tr>\n",
        "<tr>\n",
        "  <th>StatedMonthlyIncome</th>   <td>  813.8288</td> <td>   16.268</td> <td>   50.025</td> <td> 0.000</td> <td>  781.943   845.715</td>\n",
        "</tr>\n",
        "<tr>\n",
        "  <th>Term</th>                  <td> 1690.2776</td> <td>   16.863</td> <td>  100.236</td> <td> 0.000</td> <td> 1657.227  1723.329</td>\n",
        "</tr>\n",
        "<tr>\n",
        "  <th>LenderYield</th>           <td>-1630.9804</td> <td>   18.663</td> <td>  -87.392</td> <td> 0.000</td> <td>-1667.559 -1594.401</td>\n",
        "</tr>\n",
        "<tr>\n",
        "  <th>job_Full-time</th>         <td>-2155.2679</td> <td>   41.243</td> <td>  -52.258</td> <td> 0.000</td> <td>-2236.103 -2074.433</td>\n",
        "</tr>\n",
        "<tr>\n",
        "  <th>job_Not available</th>     <td>-1902.1674</td> <td>   81.420</td> <td>  -23.362</td> <td> 0.000</td> <td>-2061.750 -1742.585</td>\n",
        "</tr>\n",
        "<tr>\n",
        "  <th>job_Not employed</th>      <td>-2156.2083</td> <td>  198.716</td> <td>  -10.851</td> <td> 0.000</td> <td>-2545.689 -1766.727</td>\n",
        "</tr>\n",
        "<tr>\n",
        "  <th>job_Other</th>             <td>-1702.3283</td> <td>   88.973</td> <td>  -19.133</td> <td> 0.000</td> <td>-1876.714 -1527.943</td>\n",
        "</tr>\n",
        "<tr>\n",
        "  <th>job_Part-time</th>         <td>-3515.9629</td> <td>  161.795</td> <td>  -21.731</td> <td> 0.000</td> <td>-3833.079 -3198.847</td>\n",
        "</tr>\n",
        "<tr>\n",
        "  <th>job_Retired</th>           <td>-3358.6644</td> <td>  187.640</td> <td>  -17.899</td> <td> 0.000</td> <td>-3726.436 -2990.892</td>\n",
        "</tr>\n",
        "<tr>\n",
        "  <th>job_Self-employed</th>     <td> -720.5137</td> <td>   71.666</td> <td>  -10.054</td> <td> 0.000</td> <td> -860.977  -580.050</td>\n",
        "</tr>\n",
        "<tr>\n",
        "  <th>homeowner_False</th>       <td>-1080.1679</td> <td>   33.811</td> <td>  -31.947</td> <td> 0.000</td> <td>-1146.437 -1013.898</td>\n",
        "</tr>\n",
        "</table>\n",
        "<table class=\"simpletable\">\n",
        "<tr>\n",
        "  <th>Omnibus:</th>       <td>29859.330</td> <th>  Durbin-Watson:     </th>  <td>   2.007</td>  \n",
        "</tr>\n",
        "<tr>\n",
        "  <th>Prob(Omnibus):</th>  <td> 0.000</td>   <th>  Jarque-Bera (JB):  </th> <td>1384223.160</td>\n",
        "</tr>\n",
        "<tr>\n",
        "  <th>Skew:</th>           <td> 0.572</td>   <th>  Prob(JB):          </th>  <td>    0.00</td>  \n",
        "</tr>\n",
        "<tr>\n",
        "  <th>Kurtosis:</th>       <td>20.510</td>   <th>  Cond. No.          </th>  <td>    15.7</td>  \n",
        "</tr>\n",
        "</table>"
       ],
       "metadata": {},
       "output_type": "pyout",
       "prompt_number": 78,
       "text": [
        "<class 'statsmodels.iolib.summary.Summary'>\n",
        "\"\"\"\n",
        "                            OLS Regression Results                            \n",
        "==============================================================================\n",
        "Dep. Variable:     LoanOriginalAmount   R-squared:                       0.298\n",
        "Model:                            OLS   Adj. R-squared:                  0.298\n",
        "Method:                 Least Squares   F-statistic:                     3824.\n",
        "Date:                Tue, 16 Jun 2015   Prob (F-statistic):               0.00\n",
        "Time:                        18:03:43   Log-Likelihood:            -1.0772e+06\n",
        "No. Observations:              107893   AIC:                         2.154e+06\n",
        "Df Residuals:                  107880   BIC:                         2.155e+06\n",
        "Df Model:                          12                                         \n",
        "Covariance Type:            nonrobust                                         \n",
        "=========================================================================================\n",
        "                            coef    std err          t      P>|t|      [95.0% Conf. Int.]\n",
        "-----------------------------------------------------------------------------------------\n",
        "const                  9746.5002     27.336    356.541      0.000      9692.922  9800.079\n",
        "CreditScoreRangeLower   644.4733     20.641     31.224      0.000       604.018   684.928\n",
        "StatedMonthlyIncome     813.8288     16.268     50.025      0.000       781.943   845.715\n",
        "Term                   1690.2776     16.863    100.236      0.000      1657.227  1723.329\n",
        "LenderYield           -1630.9804     18.663    -87.392      0.000     -1667.559 -1594.401\n",
        "job_Full-time         -2155.2679     41.243    -52.258      0.000     -2236.103 -2074.433\n",
        "job_Not available     -1902.1674     81.420    -23.362      0.000     -2061.750 -1742.585\n",
        "job_Not employed      -2156.2083    198.716    -10.851      0.000     -2545.689 -1766.727\n",
        "job_Other             -1702.3283     88.973    -19.133      0.000     -1876.714 -1527.943\n",
        "job_Part-time         -3515.9629    161.795    -21.731      0.000     -3833.079 -3198.847\n",
        "job_Retired           -3358.6644    187.640    -17.899      0.000     -3726.436 -2990.892\n",
        "job_Self-employed      -720.5137     71.666    -10.054      0.000      -860.977  -580.050\n",
        "homeowner_False       -1080.1679     33.811    -31.947      0.000     -1146.437 -1013.898\n",
        "==============================================================================\n",
        "Omnibus:                    29859.330   Durbin-Watson:                   2.007\n",
        "Prob(Omnibus):                  0.000   Jarque-Bera (JB):          1384223.160\n",
        "Skew:                           0.572   Prob(JB):                         0.00\n",
        "Kurtosis:                      20.510   Cond. No.                         15.7\n",
        "==============================================================================\n",
        "\n",
        "Warnings:\n",
        "[1] Standard Errors assume that the covariance matrix of the errors is correctly specified.\n",
        "\"\"\""
       ]
      }
     ],
     "prompt_number": 78
    },
    {
     "cell_type": "code",
     "collapsed": false,
     "input": [],
     "language": "python",
     "metadata": {},
     "outputs": []
    }
   ],
   "metadata": {}
  }
 ]
}