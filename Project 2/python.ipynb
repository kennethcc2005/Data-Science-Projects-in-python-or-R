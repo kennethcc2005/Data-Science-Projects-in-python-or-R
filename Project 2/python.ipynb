{
 "cells": [
  {
   "cell_type": "markdown",
   "metadata": {},
   "source": [
    "#                                          PROJECT 2"
   ]
  },
  {
   "cell_type": "markdown",
   "metadata": {
    "collapsed": true
   },
   "source": [
    "import csv\n",
    "import pandas\n",
    "import numpy as np\n",
    "import pandasql"
   ]
  },
  {
   "cell_type": "code",
   "execution_count": 3,
   "metadata": {
    "collapsed": true
   },
   "outputs": [],
   "source": [
    "from sympy import init_printing\n",
    "init_printing()\n",
    "import sympy as sym\n",
    "from sympy import *\n",
    "filename=\"turnstile_data_master_with_weather.csv\""
   ]
  },
  {
   "cell_type": "markdown",
   "metadata": {},
   "source": [
    "# Question 2.1"
   ]
  },
  {
   "cell_type": "code",
   "execution_count": 4,
   "metadata": {
    "collapsed": false
   },
   "outputs": [
    {
     "name": "stdout",
     "output_type": "stream",
     "text": [
      "   count(rain)\n",
      "0        44104\n"
     ]
    }
   ],
   "source": [
    "import pandas\n",
    "import pandasql\n",
    "\n",
    "\n",
    "def num_rainy_days(filename):\n",
    "    '''\n",
    "    This function should run a SQL query on a dataframe of\n",
    "    weather data.  The SQL query should return one column and\n",
    "    one row - a count of the number of days in the dataframe where\n",
    "    the rain column is equal to 1 (i.e., the number of days it\n",
    "    rained).  The dataframe will be titled 'weather_data'. You'll\n",
    "    need to provide the SQL query.  You might find SQL's count function\n",
    "    useful for this exercise.  You can read more about it here:\n",
    "    \n",
    "    https://dev.mysql.com/doc/refman/5.1/en/counting-rows.html\n",
    "    \n",
    "    You might also find that interpreting numbers as integers or floats may not\n",
    "    work initially.  In order to get around this issue, it may be useful to cast\n",
    "    these numbers as integers.  This can be done by writing cast(column as integer).\n",
    "    So for example, if we wanted to cast the maxtempi column as an integer, we would actually\n",
    "    write something like where cast(maxtempi as integer) = 76, as opposed to simply \n",
    "    where maxtempi = 76.\n",
    "    \n",
    "    You can see the weather data that we are passing in below:\n",
    "    https://www.dropbox.com/s/7sf0yqc9ykpq3w8/weather_underground.csv\n",
    "    '''\n",
    "    weather_data = pandas.read_csv(filename)\n",
    "    weather_data.rename(columns = lambda x:x.replace(' ','_').lower(),inplace=True )\n",
    "    q = \"\"\"\n",
    "    SELECT count(rain)\n",
    "    FROM weather_data\n",
    "    WHERE cast(rain as integer)=1\n",
    "    \"\"\"\n",
    "    \n",
    "    #Execute your SQL command against the pandas frame\n",
    "    rainy_days = pandasql.sqldf(q, locals())\n",
    "    return rainy_days\n",
    "\n",
    "print num_rainy_days(filename)"
   ]
  },
  {
   "cell_type": "markdown",
   "metadata": {},
   "source": [
    "# Question 2.2"
   ]
  },
  {
   "cell_type": "code",
   "execution_count": 6,
   "metadata": {
    "collapsed": false
   },
   "outputs": [
    {
     "name": "stdout",
     "output_type": "stream",
     "text": [
      "   fog  max(maxtempi)\n",
      "0    0             86\n",
      "1    1             81\n"
     ]
    }
   ],
   "source": [
    "import pandas\n",
    "import pandasql\n",
    "\n",
    "\n",
    "def max_temp_aggregate_by_fog(filename):\n",
    "    '''\n",
    "    This function should run a SQL query on a dataframe of\n",
    "    weather data.  The SQL query should return two columns and\n",
    "    two rows - whether it was foggy or not (0 or 1) and the max\n",
    "    maxtempi for that fog value (i.e., the maximum max temperature\n",
    "    for both foggy and non-foggy days).  The dataframe will be \n",
    "    titled 'weather_data'. You'll need to provide the SQL query.\n",
    "    \n",
    "    You might also find that interpreting numbers as integers or floats may not\n",
    "    work initially.  In order to get around this issue, it may be useful to cast\n",
    "    these numbers as integers.  This can be done by writing cast(column as integer).\n",
    "    So for example, if we wanted to cast the maxtempi column as an integer, we would actually\n",
    "    write something like where cast(maxtempi as integer) = 76, as opposed to simply \n",
    "    where maxtempi = 76.\n",
    "    \n",
    "    You can see the weather data that we are passing in below:\n",
    "    https://www.dropbox.com/s/7sf0yqc9ykpq3w8/weather_underground.csv\n",
    "    '''\n",
    "    weather_data = pandas.read_csv(filename)\n",
    "    weather_data.rename(columns = lambda x:x.replace(' ','_').lower(),inplace=True )\n",
    "    q = \"\"\"\n",
    "    select fog , max(maxtempi) from weather_data\n",
    "    group by fog\n",
    "    \"\"\"\n",
    "    \n",
    "    #Execute your SQL command against the pandas frame\n",
    "    foggy_days = pandasql.sqldf(q.lower(), locals())\n",
    "    return foggy_days\n",
    "print max_temp_aggregate_by_fog(filename)"
   ]
  },
  {
   "cell_type": "markdown",
   "metadata": {},
   "source": [
    "# Question 2.3"
   ]
  },
  {
   "cell_type": "code",
   "execution_count": 11,
   "metadata": {
    "collapsed": false
   },
   "outputs": [
    {
     "name": "stdout",
     "output_type": "stream",
     "text": [
      "     average\n",
      "0  65.100667\n"
     ]
    }
   ],
   "source": [
    "import pandas\n",
    "import pandasql\n",
    "\n",
    "def avg_weekend_temperature(file_name):\n",
    "    '''\n",
    "    This function should run a SQL query on a dataframe of\n",
    "    weather data.  The SQL query should return one column and\n",
    "    one row - the average meantempi on days that are a Saturday\n",
    "    or Sunday (i.e., the the average mean temperature on weekends).\n",
    "    The dataframe will be titled 'weather_data' and you can access\n",
    "    the date in the dataframe via the 'date' column.\n",
    "    \n",
    "    You'll need to provide  the SQL query.\n",
    "    \n",
    "    You might also find that interpreting numbers as integers or floats may not\n",
    "    work initially.  In order to get around this issue, it may be useful to cast\n",
    "    these numbers as integers.  This can be done by writing cast(column as integer).\n",
    "    So for example, if we wanted to cast the maxtempi column as an integer, we would actually\n",
    "    write something like where cast(maxtempi as integer) = 76, as opposed to simply \n",
    "    where maxtempi = 76.\n",
    "    \n",
    "    Also, you can convert dates to days of the week via the 'strftime' keyword in SQL.\n",
    "    For example, cast (strftime('%w', date) as integer) will return 0 if the date\n",
    "    is a Sunday or 6 if the date is a Saturday.\n",
    "    \n",
    "    You can see the weather data that we are passing in below:\n",
    "    https://www.dropbox.com/s/7sf0yqc9ykpq3w8/weather_underground.csv\n",
    "    '''\n",
    "    weather_data = pandas.read_csv(filename)\n",
    "    weather_data.rename(columns = lambda x:x.replace(' ','_').lower(),inplace=True )\n",
    "    \n",
    "    q = \"\"\"\n",
    "    # select avg(meantempi) from weather_data\n",
    "    #    where cast(strftime('%w', date) as integer)=0 or cast(strftime('%w', date) as integer)=6\n",
    "    #    \"\"\"\n",
    "    # Upper part is comemnted as it would work with grader but not with our file columns\n",
    "\n",
    "    #New version with correct Date column\n",
    "    q = \"\"\"\n",
    "    SELECT AVG(cast (meantempi as integer)) as Average\n",
    "    FROM weather_data \n",
    "    WHERE cast (strftime('%w', DATEn) as integer) in (0, 6)\n",
    "    \"\"\"\n",
    "    #Execute your SQL command against the pandas frame\n",
    "    mean_temp_weekends = pandasql.sqldf(q.lower(), locals())\n",
    "    return mean_temp_weekends\n",
    "print avg_weekend_temperature(filename)"
   ]
  },
  {
   "cell_type": "markdown",
   "metadata": {},
   "source": [
    "# Question 2.4"
   ]
  },
  {
   "cell_type": "code",
   "execution_count": 12,
   "metadata": {
    "collapsed": false
   },
   "outputs": [
    {
     "name": "stdout",
     "output_type": "stream",
     "text": [
      "    average\n",
      "0  61.23886\n"
     ]
    }
   ],
   "source": [
    "import pandas\n",
    "import pandasql\n",
    "\n",
    "def avg_min_temperature(filename):\n",
    "    '''\n",
    "    This function should run a SQL query on a dataframe of\n",
    "    weather data. More specifically you want to find the average\n",
    "    minimum temperature (mintempi column of the weather dataframe) on \n",
    "    rainy days where the minimum temperature is greater than 55 degrees.\n",
    "    \n",
    "    You might also find that interpreting numbers as integers or floats may not\n",
    "    work initially.  In order to get around this issue, it may be useful to cast\n",
    "    these numbers as integers.  This can be done by writing cast(column as integer).\n",
    "    So for example, if we wanted to cast the maxtempi column as an integer, we would actually\n",
    "    write something like where cast(maxtempi as integer) = 76, as opposed to simply \n",
    "    where maxtempi = 76.\n",
    "    \n",
    "    You can see the weather data that we are passing in below:\n",
    "    https://www.dropbox.com/s/7sf0yqc9ykpq3w8/weather_underground.csv\n",
    "    '''\n",
    "    weather_data = pandas.read_csv(filename)\n",
    "    weather_data.rename(columns = lambda x:x.replace(' ','_').lower(),inplace=True )\n",
    "    q = \"\"\"\n",
    "    select avg(cast(mintempi as integer)) as Average \n",
    "    from weather_data\n",
    "    where cast(mintempi as integer)>55 and cast(rain as integer) =1\n",
    "    \"\"\"\n",
    "    \n",
    "    #Execute your SQL command against the pandas frame\n",
    "    avg_min_temp_rainy = pandasql.sqldf(q.lower(), locals())\n",
    "    return avg_min_temp_rainy\n",
    "print avg_min_temperature(filename)"
   ]
  },
  {
   "cell_type": "markdown",
   "metadata": {},
   "source": [
    "# Question 2.5"
   ]
  },
  {
   "cell_type": "code",
   "execution_count": 5,
   "metadata": {
    "collapsed": false
   },
   "outputs": [
    {
     "name": "stdout",
     "output_type": "stream",
     "text": [
      "   A002  R051  02-00-00  04-30-11  00:00:00  REGULAR  003143506  001087907\n",
      "0  A002  R051  02-00-00  04-30-11  04:00:00  REGULAR    3143547    1087915\n",
      "1  A002  R051  02-00-00  04-30-11  08:00:00  REGULAR    3143563    1087935\n",
      "2  A002  R051  02-00-00  04-30-11  12:00:00  REGULAR    3143646    1088024\n",
      "3  A002  R051  02-00-00  04-30-11  16:00:00  REGULAR    3143865    1088083\n",
      "4  A002  R051  02-00-00  04-30-11  20:00:00  REGULAR    3144181    1088132\n",
      "         A002  R051  02-00-00  04-30-11  00:00:00  REGULAR  003143506  \\\n",
      "211097  TRAM2  R469  00-05-01  05-06-11  05:00:00  REGULAR       5554   \n",
      "211098  TRAM2  R469  00-05-01  05-06-11  09:00:00  REGULAR       5554   \n",
      "211099  TRAM2  R469  00-05-01  05-06-11  13:00:00  REGULAR       5554   \n",
      "211100  TRAM2  R469  00-05-01  05-06-11  17:00:00  REGULAR       5554   \n",
      "211101  TRAM2  R469  00-05-01  05-06-11  21:00:00  REGULAR       5554   \n",
      "\n",
      "        001087907  \n",
      "211097         13  \n",
      "211098         13  \n",
      "211099         13  \n",
      "211100         13  \n",
      "211101         13  \n"
     ]
    }
   ],
   "source": [
    "import csv\n",
    "import pandas\n",
    "filenames = [\"turnstile_110507.csv\"]\n",
    "\n",
    "def fix_turnstile_data(filenames):\n",
    "    '''\n",
    "    Filenames is a list of MTA Subway turnstile text files. A link to an example\n",
    "    MTA Subway turnstile text file can be seen at the URL below:\n",
    "    http://web.mta.info/developers/data/nyct/turnstile/turnstile_110507.txt\n",
    "    \n",
    "    As you can see, there are numerous data points included in each row of the\n",
    "    a MTA Subway turnstile text file. \n",
    "\n",
    "    You want to write a function that will update each row in the text\n",
    "    file so there is only one entry per row. A few examples below:\n",
    "    A002,R051,02-00-00,05-28-11,00:00:00,REGULAR,003178521,001100739\n",
    "    A002,R051,02-00-00,05-28-11,04:00:00,REGULAR,003178541,001100746\n",
    "    A002,R051,02-00-00,05-28-11,08:00:00,REGULAR,003178559,001100775\n",
    "    \n",
    "    Write the updates to a different text file in the format of \"updated_\" + filename.\n",
    "    For example:\n",
    "        1) if you read in a text file called \"turnstile_110521.txt\"\n",
    "        2) you should write the updated data to \"updated_turnstile_110521.txt\"\n",
    "\n",
    "    The order of the fields should be preserved. Remember to read through the \n",
    "    Instructor Notes below for more details on the task. \n",
    "    \n",
    "    In addition, here is a CSV reader/writer introductory tutorial:\n",
    "    http://goo.gl/HBbvyy\n",
    "    \n",
    "    You can see a sample of the turnstile text file that's passed into this function\n",
    "    and the the corresponding updated file in the links below:\n",
    "    \n",
    "    Sample input file:\n",
    "    https://www.dropbox.com/s/mpin5zv4hgrx244/turnstile_110528.txt\n",
    "    Sample updated file:\n",
    "    https://www.dropbox.com/s/074xbgio4c39b7h/solution_turnstile_110528.txt\n",
    "    '''\n",
    "    for name in filenames:\n",
    "        f_in= open(name,'r')\n",
    "        f_out=open(\"updated_\"+name,'w')  \n",
    "        reader_in=csv.reader(f_in,delimiter=',')\n",
    "        writer_out=csv.writer(f_out,delimiter=',')\n",
    "     \n",
    "        for line in reader_in:\n",
    "           line_hdr=line[0:3]\n",
    "           length = len(line[3:])/5\n",
    "           count =0\n",
    "           index = 3\n",
    "           restofline=[]\n",
    "           \n",
    "           while count<length:\n",
    "               writeline=line_hdr+line[index:index+5]\n",
    "               writer_out.writerow(writeline)\n",
    "               index=index+5\n",
    "               count=count+1\n",
    "    f_in.close()\n",
    "    f_out.close()  \n",
    "    return filenames\n",
    "fix_turnstile_data(filenames)\n",
    "df = pandas.read_csv(\"updated_turnstile_110507.csv\")\n",
    "print df.head()\n",
    "print df.tail()"
   ]
  },
  {
   "cell_type": "markdown",
   "metadata": {},
   "source": [
    "# Question 2.6"
   ]
  },
  {
   "cell_type": "code",
   "execution_count": 7,
   "metadata": {
    "collapsed": false
   },
   "outputs": [
    {
     "data": {
      "text/html": [
       "<div>\n",
       "<table border=\"1\" class=\"dataframe\">\n",
       "  <thead>\n",
       "    <tr style=\"text-align: right;\">\n",
       "      <th></th>\n",
       "      <th>C/A</th>\n",
       "      <th>UNIT</th>\n",
       "      <th>SCP</th>\n",
       "      <th>DATEn</th>\n",
       "      <th>TIMEn</th>\n",
       "      <th>DESCn</th>\n",
       "      <th>ENTRIESn</th>\n",
       "      <th>EXITSn</th>\n",
       "    </tr>\n",
       "  </thead>\n",
       "  <tbody>\n",
       "    <tr>\n",
       "      <th>0</th>\n",
       "      <td>A002</td>\n",
       "      <td>R051</td>\n",
       "      <td>02-00-00</td>\n",
       "      <td>05-21-11</td>\n",
       "      <td>00:00:00</td>\n",
       "      <td>REGULAR</td>\n",
       "      <td>3169391</td>\n",
       "      <td>1097585</td>\n",
       "    </tr>\n",
       "    <tr>\n",
       "      <th>1</th>\n",
       "      <td>A002</td>\n",
       "      <td>R051</td>\n",
       "      <td>02-00-00</td>\n",
       "      <td>05-21-11</td>\n",
       "      <td>04:00:00</td>\n",
       "      <td>REGULAR</td>\n",
       "      <td>3169415</td>\n",
       "      <td>1097588</td>\n",
       "    </tr>\n",
       "    <tr>\n",
       "      <th>2</th>\n",
       "      <td>A002</td>\n",
       "      <td>R051</td>\n",
       "      <td>02-00-00</td>\n",
       "      <td>05-21-11</td>\n",
       "      <td>08:00:00</td>\n",
       "      <td>REGULAR</td>\n",
       "      <td>3169431</td>\n",
       "      <td>1097607</td>\n",
       "    </tr>\n",
       "    <tr>\n",
       "      <th>3</th>\n",
       "      <td>A002</td>\n",
       "      <td>R051</td>\n",
       "      <td>02-00-00</td>\n",
       "      <td>05-21-11</td>\n",
       "      <td>12:00:00</td>\n",
       "      <td>REGULAR</td>\n",
       "      <td>3169506</td>\n",
       "      <td>1097686</td>\n",
       "    </tr>\n",
       "    <tr>\n",
       "      <th>4</th>\n",
       "      <td>A002</td>\n",
       "      <td>R051</td>\n",
       "      <td>02-00-00</td>\n",
       "      <td>05-21-11</td>\n",
       "      <td>16:00:00</td>\n",
       "      <td>REGULAR</td>\n",
       "      <td>3169693</td>\n",
       "      <td>1097734</td>\n",
       "    </tr>\n",
       "  </tbody>\n",
       "</table>\n",
       "</div>"
      ],
      "text/plain": [
       "    C/A  UNIT       SCP     DATEn     TIMEn    DESCn  ENTRIESn   EXITSn\n",
       "0  A002  R051  02-00-00  05-21-11  00:00:00  REGULAR   3169391  1097585\n",
       "1  A002  R051  02-00-00  05-21-11  04:00:00  REGULAR   3169415  1097588\n",
       "2  A002  R051  02-00-00  05-21-11  08:00:00  REGULAR   3169431  1097607\n",
       "3  A002  R051  02-00-00  05-21-11  12:00:00  REGULAR   3169506  1097686\n",
       "4  A002  R051  02-00-00  05-21-11  16:00:00  REGULAR   3169693  1097734"
      ]
     },
     "execution_count": 7,
     "metadata": {},
     "output_type": "execute_result"
    }
   ],
   "source": [
    "## Locally, I only have a copy of turnstile_110528.txt, so I'll update by concatenating a copy of itself.\n",
    "filenames = [\"updated_turnstile_110528.txt\", \"updated_turnstile_110528.txt\"]\n",
    "\n",
    "output_file = \"Appendedfile.txt\"\n",
    "import csv\n",
    "def create_master_turnstile_file(filenames, output_file):\n",
    "    '''\n",
    "    Write a function that takes the files in the list filenames, which all have the \n",
    "    columns 'C/A, UNIT, SCP, DATEn, TIMEn, DESCn, ENTRIESn, EXITSn', and consolidates\n",
    "    them into one file located at output_file.  There should be ONE row with the column\n",
    "    headers, located at the top of the file. The input files do not have column header\n",
    "    rows of their own.\n",
    "    \n",
    "    For example, if file_1 has:\n",
    "    line 1 ...\n",
    "    line 2 ...\n",
    "    \n",
    "    and another file, file_2 has:\n",
    "    line 3 ...\n",
    "    line 4 ...\n",
    "    line 5 ...\n",
    "    \n",
    "    We need to combine file_1 and file_2 into a master_file like below:\n",
    "     'C/A, UNIT, SCP, DATEn, TIMEn, DESCn, ENTRIESn, EXITSn'\n",
    "    line 1 ...\n",
    "    line 2 ...\n",
    "    line 3 ...\n",
    "    line 4 ...\n",
    "    line 5 ...\n",
    "    '''\n",
    "    with open(output_file, 'w') as master_file:\n",
    "        master_file.write('C/A,UNIT,SCP,DATEn,TIMEn,DESCn,ENTRIESn,EXITSn\\n')\n",
    "        writer = csv.writer(master_file)\n",
    "        for name in filenames:\n",
    "            f_in= open(name,'r')        \n",
    "            reader_in=csv.reader(f_in,delimiter=',')\n",
    "            for line in reader_in:\n",
    "                s1 = line[0:8]\n",
    "                writer.writerow(s1)\n",
    "create_master_turnstile_file(filenames, output_file)\n",
    "\n",
    "df=pandas.read_csv(output_file)\n",
    "df.head()"
   ]
  },
  {
   "cell_type": "markdown",
   "metadata": {},
   "source": [
    "# Question 2.7"
   ]
  },
  {
   "cell_type": "code",
   "execution_count": 14,
   "metadata": {
    "collapsed": false
   },
   "outputs": [
    {
     "name": "stdout",
     "output_type": "stream",
     "text": [
      "   Unnamed: 0  UNIT       DATEn     TIMEn  Hour    DESCn  ENTRIESn_hourly  \\\n",
      "0           0  R001  2011-05-01  01:00:00     1  REGULAR                0   \n",
      "1           1  R001  2011-05-01  05:00:00     5  REGULAR              217   \n",
      "2           2  R001  2011-05-01  09:00:00     9  REGULAR              890   \n",
      "3           3  R001  2011-05-01  13:00:00    13  REGULAR             2451   \n",
      "4           4  R001  2011-05-01  17:00:00    17  REGULAR             4400   \n",
      "\n",
      "   EXITSn_hourly  maxpressurei  maxdewpti   ...     meandewpti  meanpressurei  \\\n",
      "0              0         30.31         42   ...             39          30.27   \n",
      "1            553         30.31         42   ...             39          30.27   \n",
      "2           1262         30.31         42   ...             39          30.27   \n",
      "3           3708         30.31         42   ...             39          30.27   \n",
      "4           2501         30.31         42   ...             39          30.27   \n",
      "\n",
      "   fog  rain  meanwindspdi  mintempi  meantempi  maxtempi  precipi  thunder  \n",
      "0    0     0             5        50         60        69        0        0  \n",
      "1    0     0             5        50         60        69        0        0  \n",
      "2    0     0             5        50         60        69        0        0  \n",
      "3    0     0             5        50         60        69        0        0  \n",
      "4    0     0             5        50         60        69        0        0  \n",
      "\n",
      "[5 rows x 22 columns]\n",
      "        Unnamed: 0  UNIT       DATEn     TIMEn  Hour    DESCn  \\\n",
      "131946      131946  R552  2011-05-30  23:21:29    23  REGULAR   \n",
      "131947      131947  R552  2011-05-30  23:23:30    23  REGULAR   \n",
      "131948      131948  R552  2011-05-30  23:28:44    23  REGULAR   \n",
      "131949      131949  R552  2011-05-30  23:35:45    23  REGULAR   \n",
      "131950      131950  R552  2011-05-30  23:50:47    23  REGULAR   \n",
      "\n",
      "        ENTRIESn_hourly  EXITSn_hourly  maxpressurei  maxdewpti   ...     \\\n",
      "131946               19             14         30.13         70   ...      \n",
      "131947              158           1022         30.13         70   ...      \n",
      "131948               54            275         30.13         70   ...      \n",
      "131949               59             46         30.13         70   ...      \n",
      "131950              123            108         30.13         70   ...      \n",
      "\n",
      "        meandewpti  meanpressurei  fog  rain  meanwindspdi  mintempi  \\\n",
      "131946          68          30.08    0     1             5        70   \n",
      "131947          68          30.08    0     1             5        70   \n",
      "131948          68          30.08    0     1             5        70   \n",
      "131949          68          30.08    0     1             5        70   \n",
      "131950          68          30.08    0     1             5        70   \n",
      "\n",
      "        meantempi  maxtempi  precipi  thunder  \n",
      "131946         78        86     0.29        0  \n",
      "131947         78        86     0.29        0  \n",
      "131948         78        86     0.29        0  \n",
      "131949         78        86     0.29        0  \n",
      "131950         78        86     0.29        0  \n",
      "\n",
      "[5 rows x 22 columns]\n"
     ]
    }
   ],
   "source": [
    "import pandas\n",
    "file_name =\"Appendedfile.txt\"\n",
    "def filter_by_regular(file_name):\n",
    "    '''\n",
    "    This function should read the csv file located at filename into a pandas dataframe,\n",
    "    and filter the dataframe to only rows where the 'DESCn' column has the value 'REGULAR'.\n",
    "    \n",
    "    For example, if the pandas dataframe is as follows:\n",
    "    ,C/A,UNIT,SCP,DATEn,TIMEn,DESCn,ENTRIESn,EXITSn\n",
    "    0,A002,R051,02-00-00,05-01-11,00:00:00,REGULAR,3144312,1088151\n",
    "    1,A002,R051,02-00-00,05-01-11,04:00:00,DOOR,3144335,1088159\n",
    "    2,A002,R051,02-00-00,05-01-11,08:00:00,REGULAR,3144353,1088177\n",
    "    3,A002,R051,02-00-00,05-01-11,12:00:00,DOOR,3144424,1088231\n",
    "    \n",
    "    The dataframe will look like below after filtering to only rows where DESCn column\n",
    "    has the value 'REGULAR':\n",
    "    0,A002,R051,02-00-00,05-01-11,00:00:00,REGULAR,3144312,1088151\n",
    "    2,A002,R051,02-00-00,05-01-11,08:00:00,REGULAR,3144353,1088177\n",
    "    '''\n",
    "    \n",
    "    turnstile_data = pandas.read_csv(filename)\n",
    "    \n",
    "    turnstile_data = turnstile_data[turnstile_data['DESCn']=='REGULAR']\n",
    "    return turnstile_data\n",
    "print filter_by_regular(file_name).head()\n",
    "print filter_by_regular(file_name).tail()"
   ]
  },
  {
   "cell_type": "markdown",
   "metadata": {},
   "source": [
    "# Question 2.8"
   ]
  },
  {
   "cell_type": "code",
   "execution_count": 15,
   "metadata": {
    "collapsed": false
   },
   "outputs": [
    {
     "name": "stdout",
     "output_type": "stream",
     "text": [
      "0      1\n",
      "1     24\n",
      "2     16\n",
      "3     75\n",
      "4    187\n",
      "Name: ENTRIESn_hourly, dtype: float64\n",
      "7380     19\n",
      "7381     39\n",
      "7382    148\n",
      "7383    430\n",
      "7384    716\n",
      "Name: ENTRIESn_hourly, dtype: float64\n"
     ]
    }
   ],
   "source": [
    "import pandas\n",
    "file_name =\"Appendedfile.txt\"\n",
    "df= pandas.read_csv(file_name)\n",
    "df=df[(df['C/A']=='A002') & (df['UNIT']=='R051') & (df['SCP']=='02-00-00')]\n",
    "\n",
    "def get_hourly_entries(df):\n",
    "    '''\n",
    "    The data in the MTA Subway Turnstile data reports on the cumulative\n",
    "    number of entries and exits per row.  Assume that you have a dataframe\n",
    "    called df that contains only the rows for a particular turnstile machine\n",
    "    (i.e., unique SCP, C/A, and UNIT).  This function should change\n",
    "    these cumulative entry numbers to a count of entries since the last reading\n",
    "    (i.e., entries since the last row in the dataframe).\n",
    "    \n",
    "    More specifically, you want to do two things:\n",
    "       1) Create a new column called ENTRIESn_hourly\n",
    "       2) Assign to the column the difference between ENTRIESn of the current row \n",
    "          and the previous row. If there is any NaN, fill/replace it with 1.\n",
    "    \n",
    "    You may find the pandas functions shift() and fillna() to be helpful in this exercise.\n",
    "    \n",
    "    Examples of what your dataframe should look like at the end of this exercise:\n",
    "    \n",
    "           C/A  UNIT       SCP     DATEn     TIMEn    DESCn  ENTRIESn    EXITSn  ENTRIESn_hourly\n",
    "    0     A002  R051  02-00-00  05-01-11  00:00:00  REGULAR   3144312   1088151                1\n",
    "    1     A002  R051  02-00-00  05-01-11  04:00:00  REGULAR   3144335   1088159               23\n",
    "    2     A002  R051  02-00-00  05-01-11  08:00:00  REGULAR   3144353   1088177               18\n",
    "    3     A002  R051  02-00-00  05-01-11  12:00:00  REGULAR   3144424   1088231               71\n",
    "    4     A002  R051  02-00-00  05-01-11  16:00:00  REGULAR   3144594   1088275              170\n",
    "    5     A002  R051  02-00-00  05-01-11  20:00:00  REGULAR   3144808   1088317              214\n",
    "    6     A002  R051  02-00-00  05-02-11  00:00:00  REGULAR   3144895   1088328               87\n",
    "    7     A002  R051  02-00-00  05-02-11  04:00:00  REGULAR   3144905   1088331               10\n",
    "    8     A002  R051  02-00-00  05-02-11  08:00:00  REGULAR   3144941   1088420               36\n",
    "    9     A002  R051  02-00-00  05-02-11  12:00:00  REGULAR   3145094   1088753              153\n",
    "    10    A002  R051  02-00-00  05-02-11  16:00:00  REGULAR   3145337   1088823              243\n",
    "    ...\n",
    "    ...\n",
    "\n",
    "    '''\n",
    "    \n",
    "    ENTRIESn_shifted = df.ENTRIESn.shift(+1)\n",
    "    for row in df:\n",
    "        df['ENTRIESn_hourly'] = df['ENTRIESn']-ENTRIESn_shifted\n",
    "    df['ENTRIESn_hourly']=df['ENTRIESn_hourly'].fillna(1)\n",
    "    return df\n",
    "df = get_hourly_entries(df)\n",
    "print df.ENTRIESn_hourly.head()\n",
    "print df.ENTRIESn_hourly.tail()"
   ]
  },
  {
   "cell_type": "markdown",
   "metadata": {},
   "source": [
    "# Question 2.9"
   ]
  },
  {
   "cell_type": "code",
   "execution_count": 16,
   "metadata": {
    "collapsed": false
   },
   "outputs": [
    {
     "name": "stdout",
     "output_type": "stream",
     "text": [
      "0     0\n",
      "1     3\n",
      "2    19\n",
      "3    79\n",
      "4    48\n",
      "Name: EXITSn_hourly, dtype: float64\n",
      "7380      4\n",
      "7381     95\n",
      "7382    316\n",
      "7383     68\n",
      "7384     50\n",
      "Name: EXITSn_hourly, dtype: float64\n"
     ]
    }
   ],
   "source": [
    "import pandas\n",
    "file_name =\"Appendedfile.txt\"\n",
    "df= pandas.read_csv(file_name)\n",
    "df=df[(df['C/A']=='A002') & (df['UNIT']=='R051') & (df['SCP']=='02-00-00')]\n",
    "\n",
    "def get_hourly_exits(df):\n",
    "    '''\n",
    "    The data in the MTA Subway Turnstile data reports on the cumulative\n",
    "    number of entries and exits per row.  Assume that you have a dataframe\n",
    "    called df that contains only the rows for a particular turnstile machine\n",
    "    (i.e., unique SCP, C/A, and UNIT).  This function should change\n",
    "    these cumulative exit numbers to a count of exits since the last reading\n",
    "    (i.e., exits since the last row in the dataframe).\n",
    "    \n",
    "    More specifically, you want to do two things:\n",
    "       1) Create a new column called EXITSn_hourly\n",
    "       2) Assign to the column the difference between EXITSn of the current row \n",
    "          and the previous row. If there is any NaN, fill/replace it with 0.\n",
    "    \n",
    "    You may find the pandas functions shift() and fillna() to be helpful in this exercise.\n",
    "    \n",
    "    Example dataframe below:\n",
    "\n",
    "          Unnamed: 0   C/A  UNIT       SCP     DATEn     TIMEn    DESCn  ENTRIESn    EXITSn  ENTRIESn_hourly  EXITSn_hourly\n",
    "    0              0  A002  R051  02-00-00  05-01-11  00:00:00  REGULAR   3144312   1088151                0              0\n",
    "    1              1  A002  R051  02-00-00  05-01-11  04:00:00  REGULAR   3144335   1088159               23              8\n",
    "    2              2  A002  R051  02-00-00  05-01-11  08:00:00  REGULAR   3144353   1088177               18             18\n",
    "    3              3  A002  R051  02-00-00  05-01-11  12:00:00  REGULAR   3144424   1088231               71             54\n",
    "    4              4  A002  R051  02-00-00  05-01-11  16:00:00  REGULAR   3144594   1088275              170             44\n",
    "    5              5  A002  R051  02-00-00  05-01-11  20:00:00  REGULAR   3144808   1088317              214             42\n",
    "    6              6  A002  R051  02-00-00  05-02-11  00:00:00  REGULAR   3144895   1088328               87             11\n",
    "    7              7  A002  R051  02-00-00  05-02-11  04:00:00  REGULAR   3144905   1088331               10              3\n",
    "    8              8  A002  R051  02-00-00  05-02-11  08:00:00  REGULAR   3144941   1088420               36             89\n",
    "    9              9  A002  R051  02-00-00  05-02-11  12:00:00  REGULAR   3145094   1088753              153            333\n",
    "    '''\n",
    "    \n",
    "    EXITSn_shifted = df.EXITSn.shift(+1)\n",
    "    \n",
    "    for row in df:\n",
    "        df['EXITSn_hourly'] = df['EXITSn']-EXITSn_shifted\n",
    "    df['EXITSn_hourly']=df['EXITSn_hourly'].fillna(0)\n",
    "    return df\n",
    "print get_hourly_exits(df).EXITSn_hourly.head()\n",
    "print get_hourly_exits(df).EXITSn_hourly.tail()"
   ]
  },
  {
   "cell_type": "markdown",
   "metadata": {},
   "source": [
    "# Question 2.10"
   ]
  },
  {
   "cell_type": "code",
   "execution_count": 18,
   "metadata": {
    "collapsed": false
   },
   "outputs": [
    {
     "name": "stdout",
     "output_type": "stream",
     "text": [
      "Time : 04:00:00 -> to hour 4\n"
     ]
    }
   ],
   "source": [
    "import pandas\n",
    "\n",
    "file_name =\"Appendedfile.txt\"\n",
    "df= pandas.read_csv(file_name)\n",
    "df=df[(df['C/A']=='A002') & (df['UNIT']=='R051') & (df['SCP']=='02-00-00')]\n",
    "time=df['TIMEn'][1]\n",
    "def time_to_hour(time):\n",
    "    '''\n",
    "    Given an input variable time that represents time in the format of:\n",
    "    \"00:00:00\" (hour:minutes:seconds)\n",
    "    \n",
    "    Write a function to extract the hour part from the input variable time\n",
    "    and return it as an integer. For example:\n",
    "        1) if hour is 00, your code should return 0\n",
    "        2) if hour is 01, your code should return 1\n",
    "        3) if hour is 21, your code should return 21\n",
    "        \n",
    "    Please return hour as an integer.\n",
    "    '''\n",
    "    \n",
    "    hour = time[0:time.find(\":\")]\n",
    "    \n",
    "    if hour[0]=='0':\n",
    "        hour=int(hour[1])\n",
    "    else:\n",
    "        hour=int(hour)\n",
    "            \n",
    "    return hour\n",
    "print \"Time :\", time, \"-> to hour\" ,time_to_hour(time)\n"
   ]
  },
  {
   "cell_type": "markdown",
   "metadata": {},
   "source": [
    "# Question 2.11"
   ]
  },
  {
   "cell_type": "code",
   "execution_count": 19,
   "metadata": {
    "collapsed": false
   },
   "outputs": [
    {
     "name": "stdout",
     "output_type": "stream",
     "text": [
      "date : 05-21-11 ->to new format date: 2011-05-21\n"
     ]
    }
   ],
   "source": [
    "import datetime\n",
    "\n",
    "file_name =\"Appendedfile.txt\"\n",
    "df= pandas.read_csv(file_name)\n",
    "df=df[(df['C/A']=='A002') & (df['UNIT']=='R051') & (df['SCP']=='02-00-00')]\n",
    "date=df['DATEn'][1]\n",
    "\n",
    "def reformat_subway_dates(date):\n",
    "    '''\n",
    "    The dates in our subway data are formatted in the format month-day-year.\n",
    "    The dates in our weather underground data are formatted year-month-day.\n",
    "    \n",
    "    In order to join these two data sets together, we'll want the dates formatted\n",
    "    the same way.  Write a function that takes as its input a date in the MTA Subway\n",
    "    data format, and returns a date in the weather underground format.\n",
    "    \n",
    "    Hint: \n",
    "    There are a couple of useful functions in the datetime library that will\n",
    "    help on this assignment, called strptime and strftime. \n",
    "    More info can be seen here and further in the documentation section:\n",
    "    http://docs.python.org/2/library/datetime.html#datetime.datetime.strptime\n",
    "    '''\n",
    "\n",
    "    date_formatted = datetime.datetime.strptime(date, '%m-%d-%y').strftime('%Y-%m-%d')\n",
    "    return date_formatted\n",
    "print \"date :\",date, \"->to new format date:\" , reformat_subway_dates(date)"
   ]
  },
  {
   "cell_type": "markdown",
   "metadata": {
    "collapsed": true
   },
   "source": [
    "# Question 3.1"
   ]
  },
  {
   "cell_type": "code",
   "execution_count": 38,
   "metadata": {
    "collapsed": false
   },
   "outputs": [
    {
     "name": "stdout",
     "output_type": "stream",
     "text": [
      "<module 'matplotlib.pyplot' from 'C:\\Users\\rahe\\Anaconda\\lib\\site-packages\\matplotlib\\pyplot.pyc'>\n"
     ]
    },
    {
     "data": {
      "image/png": "[encoded data removed]",
      "text/plain": [
       "<matplotlib.figure.Figure at 0x18173390>"
      ]
     },
     "metadata": {},
     "output_type": "display_data"
    }
   ],
   "source": [
    "%matplotlib inline\n",
    "import numpy as np\n",
    "import pandas\n",
    "import matplotlib.pyplot as plt\n",
    "filename =\"turnstile_data_master_with_weather.csv\"\n",
    "weather_data = pandas.read_csv(filename)\n",
    "#weather_data.rename(columns = lambda x:x.replace(' ','_').lower(),inplace=True )\n",
    "def entries_histogram(turnstile_weather):\n",
    "    '''\n",
    "    Before we perform any analysis, it might be useful to take a\n",
    "    look at the data we're hoping to analyze. More specifically, let's \n",
    "    examine the hourly entries in our NYC subway data and determine what\n",
    "    distribution the data follows. This data is stored in a dataframe\n",
    "    called turnstile_weather under the ['ENTRIESn_hourly'] column.\n",
    "    \n",
    "    Let's plot two histograms on the same axes to show hourly\n",
    "    entries when raining vs. when not raining. Here's an example on how\n",
    "    to plot histograms with pandas and matplotlib:\n",
    "    turnstile_weather['column_to_graph'].hist()\n",
    "    \n",
    "    Your histogram may look similar to bar graph in the instructor notes below.\n",
    "    \n",
    "    You can read a bit about using matplotlib and pandas to plot histograms here:\n",
    "    http://pandas.pydata.org/pandas-docs/stable/visualization.html#histograms\n",
    "    \n",
    "    You can see the information contained within the turnstile weather data here:\n",
    "    https://www.dropbox.com/s/meyki2wl9xfa7yk/turnstile_data_master_with_weather.csv\n",
    "    '''\n",
    "    \n",
    "    plt.figure()\n",
    "    turnstile_weather['ENTRIESn_hourly'][turnstile_weather['rain']==0].plot(kind='hist' ,bins=200 ,label=\"no rain\").set_xlim([0,6000]) # your code here to plot a historgram for hourly entries when it is raining\n",
    "    turnstile_weather['ENTRIESn_hourly'][turnstile_weather['rain']==1].plot(kind='hist' ,bins=200 , label=\"rain\").set_xlim([0,6000]) # your code here to plot a historgram for hourly entries when it is not raining\n",
    "    plt.legend()\n",
    "    plt.xlabel('ENTRIESn_hourly')\n",
    "    plt.ylabel('Frequency')\n",
    "    return plt\n",
    "print entries_histogram(weather_data)"
   ]
  },
  {
   "cell_type": "markdown",
   "metadata": {},
   "source": [
    "# Question 3.2 "
   ]
  },
  {
   "cell_type": "markdown",
   "metadata": {},
   "source": [
    "Does entries data from previous exercise seems normally distributed ?Can we run Welch's T-test on Entries data? why ?or why not?"
   ]
  },
  {
   "cell_type": "markdown",
   "metadata": {},
   "source": [
    "Answer :\n",
    "    The underlying assumption for performing t test is that the data comes from a normally distributed population. \n",
    "    Since, here data is not normally distributed, we would have to do a non parametric test such as Mann Whiteny U test."
   ]
  },
  {
   "cell_type": "markdown",
   "metadata": {},
   "source": [
    "# Questin 3.3"
   ]
  },
  {
   "cell_type": "code",
   "execution_count": 40,
   "metadata": {
    "collapsed": false
   },
   "outputs": [
    {
     "name": "stdout",
     "output_type": "stream",
     "text": [
      "(1105.4463767458733, 1090.278780151855, 1924409167.0, 0.019309634413792565)\n"
     ]
    }
   ],
   "source": [
    "import numpy as np\n",
    "import scipy\n",
    "import scipy.stats\n",
    "import pandas\n",
    "filename =\"turnstile_data_master_with_weather.csv\"\n",
    "weather_data = pandas.read_csv(filename)\n",
    "def mann_whitney_plus_means(turnstile_weather):\n",
    "    '''\n",
    "    This function will consume the turnstile_weather dataframe containing\n",
    "    our final turnstile weather data. \n",
    "    \n",
    "    You will want to take the means and run the Mann Whitney U-test on the \n",
    "    ENTRIESn_hourly column in the turnstile_weather dataframe.\n",
    "    \n",
    "    This function should return:\n",
    "        1) the mean of entries with rain\n",
    "        2) the mean of entries without rain\n",
    "        3) the Mann-Whitney U-statistic and p-value comparing the number of entries\n",
    "           with rain and the number of entries without rain\n",
    "    \n",
    "    You should feel free to use scipy's Mann-Whitney implementation, and you \n",
    "    might also find it useful to use numpy's mean function.\n",
    "    \n",
    "    Here are the functions' documentation:\n",
    "    http://docs.scipy.org/doc/scipy/reference/generated/scipy.stats.mannwhitneyu.html\n",
    "    http://docs.scipy.org/doc/numpy/reference/generated/numpy.mean.html\n",
    "    \n",
    "    You can look at the final turnstile weather data at the link below:\n",
    "    https://www.dropbox.com/s/meyki2wl9xfa7yk/turnstile_data_master_with_weather.csv\n",
    "    '''\n",
    "    \n",
    "    ### YOUR CODE HERE ###\n",
    "    with_rain_mean = np.mean(turnstile_weather['ENTRIESn_hourly'][turnstile_weather['rain']==1])\n",
    "    without_rain_mean = np.mean(turnstile_weather['ENTRIESn_hourly'][turnstile_weather['rain']==0])\n",
    "    U,p=scipy.stats.mannwhitneyu(turnstile_weather['ENTRIESn_hourly'][turnstile_weather['rain']==0],turnstile_weather['ENTRIESn_hourly'][turnstile_weather['rain']==1])\n",
    "    return with_rain_mean, without_rain_mean, U, p # leave this line for the grader\n",
    "print mann_whitney_plus_means(weather_data)"
   ]
  },
  {
   "cell_type": "markdown",
   "metadata": {},
   "source": [
    "# Question 3.4"
   ]
  },
  {
   "cell_type": "markdown",
   "metadata": {},
   "source": [
    "Is the distribution of the number of entries statistically different between rainy and non rainy days? \n",
    "Describe your results and methods used?"
   ]
  },
  {
   "cell_type": "code",
   "execution_count": null,
   "metadata": {
    "collapsed": true
   },
   "outputs": [],
   "source": [
    "Answer :\n",
    "    The results of mann whitney U test suggests that probability of the mean difference by chance is .019, which is very low.\n",
    "    Since the probability is less than .05 , we can conclude that it is significantly different \n",
    "    and we can reject our null hypothesis that both the samples comes from the same population.\n",
    "    "
   ]
  },
  {
   "cell_type": "markdown",
   "metadata": {},
   "source": [
    "# Question 3.5"
   ]
  },
  {
   "cell_type": "code",
   "execution_count": 41,
   "metadata": {
    "collapsed": false
   },
   "outputs": [
    {
     "name": "stdout",
     "output_type": "stream",
     "text": [
      "[ 3361.03667993  3630.60163823  3900.16659653 ...,   908.63926462\n",
      "   908.63926462   908.63926462]\n"
     ]
    }
   ],
   "source": [
    "import numpy as np\n",
    "import pandas\n",
    "import statsmodels.api as sm\n",
    "\n",
    "filename =\"turnstile_data_master_with_weather.csv\"\n",
    "weather_data = pandas.read_csv(filename)\n",
    "\n",
    "\"\"\"\n",
    "In this question, you need to:\n",
    "1) implement the linear_regression() procedure\n",
    "2) Select features (in the predictions procedure) and make predictions.\n",
    "\n",
    "\"\"\"\n",
    "\n",
    "def linear_regression(features, values):\n",
    "    \"\"\"\n",
    "    Perform linear regression given a data set with an arbitrary number of features.\n",
    "    \n",
    "    This can be the same code as in the lesson #3 exercise.\n",
    "    \"\"\"\n",
    "    \n",
    "    ###########################\n",
    "    ### YOUR CODE GOES HERE ###\n",
    "    ###########################\n",
    "    features=sm.add_constant(features)\n",
    "    model=sm.OLS(values,features)\n",
    "    results= model.fit()\n",
    "    intercept = results.params[0]\n",
    "    params = results.params[1:]\n",
    "    return intercept, params\n",
    "\n",
    "def predictions(dataframe):\n",
    "    '''\n",
    "    The NYC turnstile data is stored in a pandas dataframe called weather_turnstile.\n",
    "    Using the information stored in the dataframe, let's predict the ridership of\n",
    "    the NYC subway using linear regression with gradient descent.\n",
    "    \n",
    "    You can download the complete turnstile weather dataframe here:\n",
    "    https://www.dropbox.com/s/meyki2wl9xfa7yk/turnstile_data_master_with_weather.csv    \n",
    "    \n",
    "    Your prediction should have a R^2 value of 0.40 or better.\n",
    "    You need to experiment using various input features contained in the dataframe. \n",
    "    We recommend that you don't use the EXITSn_hourly feature as an input to the \n",
    "    linear model because we cannot use it as a predictor: we cannot use exits \n",
    "    counts as a way to predict entry counts. \n",
    "    \n",
    "    Note: Due to the memory and CPU limitation of our Amazon EC2 instance, we will\n",
    "    give you a random subet (~10%) of the data contained in \n",
    "    turnstile_data_master_with_weather.csv. You are encouraged to experiment with \n",
    "    this exercise on your own computer, locally. If you do, you may want to complete Exercise\n",
    "    8 using gradient descent, or limit your number of features to 10 or so, since ordinary\n",
    "    least squares can be very slow for a large number of features.\n",
    "    \n",
    "    If you receive a \"server has encountered an error\" message, that means you are \n",
    "    hitting the 30-second limit that's placed on running your program. Try using a\n",
    "    smaller number of features.\n",
    "    '''\n",
    "    ################################ MODIFY THIS SECTION #####################################\n",
    "    # Select features. You should modify this section to try different features!             #\n",
    "    # We've selected rain, precipi, Hour, meantempi, and UNIT (as a dummy) to start you off. #\n",
    "    # See this page for more info about dummy variables:                                     #\n",
    "    # http://pandas.pydata.org/pandas-docs/stable/generated/pandas.get_dummies.html          #\n",
    "    ##########################################################################################\n",
    "    features = dataframe[[ 'maxtempi' , 'rain' , 'Hour', ]]    \n",
    "    dummy_units = pandas.get_dummies(dataframe['UNIT'], prefix='unit')\n",
    "    features = features.join(dummy_units)\n",
    "    \n",
    "    # Values\n",
    "    values = dataframe['ENTRIESn_hourly']\n",
    "\n",
    "    # Perform linear regression\n",
    "    intercept, params = linear_regression(features, values)\n",
    "    \n",
    "    predictions = intercept + np.dot(features, params)\n",
    "    return predictions\n",
    "    \n",
    "print predictions(weather_data)"
   ]
  },
  {
   "cell_type": "markdown",
   "metadata": {},
   "source": [
    "# Question 3.6"
   ]
  },
  {
   "cell_type": "code",
   "execution_count": 45,
   "metadata": {
    "collapsed": false
   },
   "outputs": [
    {
     "name": "stdout",
     "output_type": "stream",
     "text": [
      "<module 'matplotlib.pyplot' from 'C:\\Users\\rahe\\Anaconda\\lib\\site-packages\\matplotlib\\pyplot.pyc'>\n"
     ]
    },
    {
     "data": {
      "image/png": "[encoded data removed]",
      "text/plain": [
       "<matplotlib.figure.Figure at 0x12b19da0>"
      ]
     },
     "metadata": {},
     "output_type": "display_data"
    }
   ],
   "source": [
    "import numpy as np\n",
    "import scipy\n",
    "import matplotlib.pyplot as plt\n",
    "\n",
    "def plot_residuals(turnstile_weather, predictions):\n",
    "    '''\n",
    "    Using the same methods that we used to plot a histogram of entries\n",
    "    per hour for our data, why don't you make a histogram of the residuals\n",
    "    (that is, the difference between the original hourly entry data and the predicted values).\n",
    "    Try different binwidths for your histogram.\n",
    "\n",
    "    Based on this residual histogram, do you have any insight into how our model\n",
    "    performed?  Reading a bit on this webpage might be useful:\n",
    "\n",
    "    http://www.itl.nist.gov/div898/handbook/pri/section2/pri24.htm\n",
    "    '''\n",
    "    \n",
    "    plt.figure()\n",
    "    (turnstile_weather['ENTRIESn_hourly'] - predictions).hist(bins=100)\n",
    "    return plt\n",
    "preds = predictions(weather_data)\n",
    "print plot_residuals(weather_data, preds)"
   ]
  },
  {
   "cell_type": "markdown",
   "metadata": {},
   "source": [
    "# Question 3.7"
   ]
  },
  {
   "cell_type": "code",
   "execution_count": 49,
   "metadata": {
    "collapsed": false
   },
   "outputs": [
    {
     "name": "stdout",
     "output_type": "stream",
     "text": [
      "R-squared: 0.457720405282\n"
     ]
    }
   ],
   "source": [
    "import numpy as np\n",
    "import scipy\n",
    "import matplotlib.pyplot as plt\n",
    "import sys\n",
    "\n",
    "def compute_r_squared(data, predictions):\n",
    "    '''\n",
    "    In exercise 5, we calculated the R^2 value for you. But why don't you try and\n",
    "    and calculate the R^2 value yourself.\n",
    "    \n",
    "    Given a list of original data points, and also a list of predicted data points,\n",
    "    write a function that will compute and return the coefficient of determination (R^2)\n",
    "    for this data.  numpy.mean() and numpy.sum() might both be useful here, but\n",
    "    not necessary.\n",
    "\n",
    "    Documentation about numpy.mean() and numpy.sum() below:\n",
    "    http://docs.scipy.org/doc/numpy/reference/generated/numpy.mean.html\n",
    "    http://docs.scipy.org/doc/numpy/reference/generated/numpy.sum.html\n",
    "    '''\n",
    "    \n",
    "    # your code here\n",
    "    r_squared=1-(np.sum(np.square(data-predictions))/np.sum(np.square(data-np.mean(data))))\n",
    "   \n",
    "    return r_squared\n",
    "preds = predictions(weather_data)\n",
    "print \"R-squared:\",compute_r_squared(weather_data['ENTRIESn_hourly'],preds)"
   ]
  },
  {
   "cell_type": "markdown",
   "metadata": {},
   "source": [
    "# Question 4.1"
   ]
  },
  {
   "cell_type": "code",
   "execution_count": 23,
   "metadata": {
    "collapsed": false
   },
   "outputs": [
    {
     "name": "stdout",
     "output_type": "stream",
     "text": [
      "<ggplot: (62982748)>\n"
     ]
    }
   ],
   "source": [
    "from pandas import *\n",
    "from ggplot import *\n",
    "import datetime\n",
    "filename =\"turnstile_data_master_with_weather.csv\"\n",
    "weather_data = pandas.read_csv(filename)\n",
    "def plot_weather_data(turnstile_weather):\n",
    "    ''' \n",
    "    plot_weather_data is passed a dataframe called turnstile_weather. \n",
    "    Use turnstile_weather along with ggplot to make another data visualization\n",
    "    focused on the MTA and weather data we used in Project 3.\n",
    "    \n",
    "    Make a type of visualization different than what you did in the previous exercise.\n",
    "    Try to use the data in a different way (e.g., if you made a lineplot concerning \n",
    "    ridership and time of day in exercise #1, maybe look at weather and try to make a \n",
    "    histogram in this exercise). Or try to use multiple encodings in your graph if \n",
    "    you didn't in the previous exercise.\n",
    "    \n",
    "    You should feel free to implement something that we discussed in class \n",
    "    (e.g., scatterplots, line plots, or histograms) or attempt to implement\n",
    "    something more advanced if you'd like.\n",
    "\n",
    "    Here are some suggestions for things to investigate and illustrate:\n",
    "     * Ridership by time-of-day or day-of-week\n",
    "     * How ridership varies by subway station (UNIT)\n",
    "     * Which stations have more exits or entries at different times of day\n",
    "       (You can use UNIT as a proxy for subway station.)\n",
    "\n",
    "    If you'd like to learn more about ggplot and its capabilities, take\n",
    "    a look at the documentation at:\n",
    "    https://pypi.python.org/pypi/ggplot/\n",
    "     \n",
    "    You can check out the link \n",
    "    https://www.dropbox.com/s/meyki2wl9xfa7yk/turnstile_data_master_with_weather.csv\n",
    "    to see all the columns and data points included in the turnstile_weather \n",
    "    dataframe.\n",
    "     \n",
    "   However, due to the limitation of our Amazon EC2 server, we are giving you a random\n",
    "    subset, about 1/3 of the actual data in the turnstile_weather dataframe.\n",
    "    '''\n",
    "    dates = pandas.DatetimeIndex(turnstile_weather['DATEn'])\n",
    "    turnstile_weather['weekday'] = dates.weekday\n",
    "    grouped=turnstile_weather.groupby('Hour')['ENTRIESn_hourly'].sum()\n",
    "    grp=grouped.reset_index()\n",
    "    \n",
    "    plot = ggplot(grp,aes('Hour','ENTRIESn_hourly'))+geom_bar(stat='bar')\n",
    "    return plot\n",
    "print plot_weather_data(weather_data)"
   ]
  },
  {
   "cell_type": "markdown",
   "metadata": {
    "collapsed": true
   },
   "source": [
    "# Question 4.2"
   ]
  },
  {
   "cell_type": "code",
   "execution_count": 24,
   "metadata": {
    "collapsed": false
   },
   "outputs": [
    {
     "name": "stdout",
     "output_type": "stream",
     "text": [
      "   Unnamed: 0  UNIT       DATEn     TIMEn  Hour    DESCn  ENTRIESn_hourly  \\\n",
      "0           0  R001  2011-05-01  01:00:00     1  REGULAR                0   \n",
      "1           1  R001  2011-05-01  05:00:00     5  REGULAR              217   \n",
      "2           2  R001  2011-05-01  09:00:00     9  REGULAR              890   \n",
      "3           3  R001  2011-05-01  13:00:00    13  REGULAR             2451   \n",
      "4           4  R001  2011-05-01  17:00:00    17  REGULAR             4400   \n",
      "\n",
      "   EXITSn_hourly  maxpressurei  maxdewpti   ...     meandewpti  meanpressurei  \\\n",
      "0              0         30.31         42   ...             39          30.27   \n",
      "1            553         30.31         42   ...             39          30.27   \n",
      "2           1262         30.31         42   ...             39          30.27   \n",
      "3           3708         30.31         42   ...             39          30.27   \n",
      "4           2501         30.31         42   ...             39          30.27   \n",
      "\n",
      "   fog  rain  meanwindspdi  mintempi  meantempi  maxtempi  precipi  thunder  \n",
      "0    0     0             5        50         60        69        0        0  \n",
      "1    0     0             5        50         60        69        0        0  \n",
      "2    0     0             5        50         60        69        0        0  \n",
      "3    0     0             5        50         60        69        0        0  \n",
      "4    0     0             5        50         60        69        0        0  \n",
      "\n",
      "[5 rows x 22 columns]\n",
      "<ggplot: (51407529)>\n"
     ]
    }
   ],
   "source": [
    "from pandas import *\n",
    "from ggplot import *\n",
    "\n",
    "\n",
    "filename =\"turnstile_data_master_with_weather.csv\"\n",
    "weather_data = pandas.read_csv(filename)\n",
    "def plot_weather_data(turnstile_weather):\n",
    "    ''' \n",
    "    plot_weather_data is passed a dataframe called turnstile_weather. \n",
    "    Use turnstile_weather along with ggplot to make another data visualization\n",
    "    focused on the MTA and weather data we used in Project 3.\n",
    "    \n",
    "    Make a type of visualization different than what you did in the previous exercise.\n",
    "    Try to use the data in a different way (e.g., if you made a lineplot concerning \n",
    "    ridership and time of day in exercise #1, maybe look at weather and try to make a \n",
    "    histogram in this exercise). Or try to use multiple encodings in your graph if \n",
    "    you didn't in the previous exercise.\n",
    "    \n",
    "    You should feel free to implement something that we discussed in class \n",
    "    (e.g., scatterplots, line plots, or histograms) or attempt to implement\n",
    "    something more advanced if you'd like.\n",
    "\n",
    "    Here are some suggestions for things to investigate and illustrate:\n",
    "     * Ridership by time-of-day or day-of-week\n",
    "     * How ridership varies by subway station (UNIT)\n",
    "     * Which stations have more exits or entries at different times of day\n",
    "       (You can use UNIT as a proxy for subway station.)\n",
    "\n",
    "    If you'd like to learn more about ggplot and its capabilities, take\n",
    "    a look at the documentation at:\n",
    "    https://pypi.python.org/pypi/ggplot/\n",
    "     \n",
    "    You can check out the link \n",
    "    https://www.dropbox.com/s/meyki2wl9xfa7yk/turnstile_data_master_with_weather.csv\n",
    "    to see all the columns and data points included in the turnstile_weather \n",
    "    dataframe.\n",
    "     \n",
    "   However, due to the limitation of our Amazon EC2 server, we are giving you a random\n",
    "    subset, about 1/3 of the actual data in the turnstile_weather dataframe.\n",
    "    '''\n",
    "    \n",
    "    plot = ggplot(turnstile_weather, aes('Hour', 'ENTRIESn_hourly', fill='rain')) + geom_bar(stat='bar') +xlab(\"Hour of the day\") + ggtitle(\"Distribution of ridership throughout the day - Rain (Blue) / No Rain (Red)\") + ylab(\"Entries\")\n",
    "    return plot\n",
    "\n",
    "print plot_weather_data(weather_data)"
   ]
  },
  {
   "cell_type": "code",
   "execution_count": null,
   "metadata": {
    "collapsed": true
   },
   "outputs": [],
   "source": []
  }
 ],
 "metadata": {
  "kernelspec": {
   "display_name": "Python 2",
   "language": "python",
   "name": "python2"
  },
  "language_info": {
   "codemirror_mode": {
    "name": "ipython",
    "version": 2
   },
   "file_extension": ".py",
   "mimetype": "text/x-python",
   "name": "python",
   "nbconvert_exporter": "python",
   "pygments_lexer": "ipython2",
   "version": "2.7.10"
  }
 },
 "nbformat": 4,
 "nbformat_minor": 0
}
